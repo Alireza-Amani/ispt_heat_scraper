{
 "cells": [
  {
   "cell_type": "code",
   "execution_count": null,
   "metadata": {},
   "outputs": [],
   "source": [
    "# Imports ----------------------------------------------------------------------\n",
    "from pathlib import Path\n",
    "from geotherm_test.system.ispt_scraper import IsptHeatScraper\n",
    "# ______________________________________________________________________________\n",
    "\n",
    "# Variables --------------------------------------------------------------------\n",
    "\n",
    "## the address of the website where the projects are listed\n",
    "WEBURL = \"https://ispt.eu/projects/?theme-tag=heat\"\n",
    "\n",
    "## the html (elemental) address of the projects on the website\n",
    "### This dictionary defines the HTML structure of project entries on the website.\n",
    "### It's used for web scraping to locate and extract project information (title and link)\n",
    "### by specifying the relevant HTML tags, attributes, and their hierarchy.\n",
    "### 'container_tag': 'article'\n",
    "###   - This indicates that each project is contained within an <article> HTML tag.\n",
    "###   - The scraper will first look for all <article> tags on the page.\n",
    "### 'title': {'tag': 'h2', 'attr': {'class': 'entry-title'}}\n",
    "###   - This indicates that the project title is located within an <h2> tag with the class 'entry-title'.\n",
    "###   'link': {'tag': 'a', 'attr': {'class': 'post-block-wrapper'}, 'type': 'href'}\n",
    "###   - This indicates that the project link is located within an <a> tag with the class 'post-block-wrapper'.\n",
    "projects_html_address = {\n",
    "    'container_tag': 'article',\n",
    "    'title': {'tag': 'h2', 'attr': {'class': 'entry-title'}},\n",
    "    'link': {'tag': 'a', 'attr': {'class': 'post-block-wrapper'}, 'type': 'href'},\n",
    "}\n",
    "\n",
    "## the target keywords, for the sake of relevance check, are stored in a json file\n",
    "KEYWRODS_JSON_FILE = Path(\"./data/keywords.json\")\n",
    "\n",
    "## the output directory where the search results will be stored as a csv file\n",
    "OUTPUT_DIR = Path(\"./output\")\n",
    "\n",
    "## either to generate keywords using the VLT5 (AI) model or not\n",
    "### these keywords adds another layer of relevance check to the search results\n",
    "GENERATE_KEYWORDS = True\n",
    "\n",
    "## verbose mode\n",
    "VERBOSE = True\n",
    "# ______________________________________________________________________________\n",
    "\n",
    "# Main -------------------------------------------------------------------------\n",
    "\n",
    "## create an instance of the system\n",
    "ispt_heat_scraper = IsptHeatScraper(\n",
    "    case_studies_url=WEBURL,\n",
    "    cases_html_address=projects_html_address,\n",
    "    keyword_json=KEYWRODS_JSON_FILE,\n",
    "    output_dir=OUTPUT_DIR,\n",
    "    verbose=VERBOSE\n",
    ")\n",
    "\n",
    "## run the system\n",
    "ispt_heat_scraper.run(GENERATE_KEYWORDS)"
   ]
  }
 ],
 "metadata": {
  "kernelspec": {
   "display_name": "geotherm_test",
   "language": "python",
   "name": "python3"
  },
  "language_info": {
   "codemirror_mode": {
    "name": "ipython",
    "version": 3
   },
   "file_extension": ".py",
   "mimetype": "text/x-python",
   "name": "python",
   "nbconvert_exporter": "python",
   "pygments_lexer": "ipython3",
   "version": "3.12.1"
  }
 },
 "nbformat": 4,
 "nbformat_minor": 2
}
